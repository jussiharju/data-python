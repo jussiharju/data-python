{
 "cells": [
  {
   "cell_type": "code",
   "execution_count": 1,
   "metadata": {},
   "outputs": [
    {
     "name": "stderr",
     "output_type": "stream",
     "text": [
      "C:\\Users\\harju\\Anaconda3\\lib\\site-packages\\IPython\\core\\interactiveshell.py:3058: DtypeWarning: Columns (3,18,27,32) have mixed types. Specify dtype option on import or set low_memory=False.\n",
      "  interactivity=interactivity, compiler=compiler, result=result)\n"
     ]
    }
   ],
   "source": [
    "import pandas as pd\n",
    "import matplotlib.pyplot as plt\n",
    "import numpy as np\n",
    "\n",
    "vd = veh = pd.read_csv(\"Tieliikenne Avoin Data 5.6.csv\", sep=\";\", encoding=\"latin\", dtype={\"kayttoonottopvm\" : \"str\"})"
   ]
  },
  {
   "cell_type": "code",
   "execution_count": 2,
   "metadata": {
    "scrolled": false
   },
   "outputs": [],
   "source": [
    "cars = vd.loc[vd['ajoneuvoluokka'].isin(['M1', 'M1G'])]\n",
    "data = cars.loc[:, ['kayttoonottopvm',  'merkkiSelvakielinen', 'matkamittarilukema']]\n",
    "data.columns = [\"date\", \"make\", \"mileage\"]\n",
    "data[\"date\"] = pd.to_datetime(data[\"date\"], format=\"%Y%m%d\", errors=\"coerce\")\n",
    "data.dropna(inplace=True)"
   ]
  },
  {
   "cell_type": "code",
   "execution_count": 3,
   "metadata": {},
   "outputs": [],
   "source": [
    "makeCounts = data[\"make\"].value_counts()\n",
    "top5makes = makeCounts[:5]"
   ]
  },
  {
   "cell_type": "code",
   "execution_count": 4,
   "metadata": {},
   "outputs": [
    {
     "data": {
      "text/html": [
       "<div>\n",
       "<style scoped>\n",
       "    .dataframe tbody tr th:only-of-type {\n",
       "        vertical-align: middle;\n",
       "    }\n",
       "\n",
       "    .dataframe tbody tr th {\n",
       "        vertical-align: top;\n",
       "    }\n",
       "\n",
       "    .dataframe thead th {\n",
       "        text-align: right;\n",
       "    }\n",
       "</style>\n",
       "<table border=\"1\" class=\"dataframe\">\n",
       "  <thead>\n",
       "    <tr style=\"text-align: right;\">\n",
       "      <th>date</th>\n",
       "      <th>1980</th>\n",
       "      <th>1981</th>\n",
       "      <th>1982</th>\n",
       "      <th>1983</th>\n",
       "      <th>1984</th>\n",
       "      <th>1985</th>\n",
       "      <th>1986</th>\n",
       "      <th>1987</th>\n",
       "      <th>1988</th>\n",
       "      <th>1989</th>\n",
       "      <th>...</th>\n",
       "      <th>2010</th>\n",
       "      <th>2011</th>\n",
       "      <th>2012</th>\n",
       "      <th>2013</th>\n",
       "      <th>2014</th>\n",
       "      <th>2015</th>\n",
       "      <th>2016</th>\n",
       "      <th>2017</th>\n",
       "      <th>2018</th>\n",
       "      <th>2019</th>\n",
       "    </tr>\n",
       "  </thead>\n",
       "  <tbody>\n",
       "    <tr>\n",
       "      <td>Toyota</td>\n",
       "      <td>61507.600000</td>\n",
       "      <td>182770.000000</td>\n",
       "      <td>270750.821429</td>\n",
       "      <td>245851.038462</td>\n",
       "      <td>199175.000000</td>\n",
       "      <td>244806.300000</td>\n",
       "      <td>243726.500000</td>\n",
       "      <td>332273.461538</td>\n",
       "      <td>349208.952381</td>\n",
       "      <td>281419.178788</td>\n",
       "      <td>...</td>\n",
       "      <td>140234.134099</td>\n",
       "      <td>126128.917862</td>\n",
       "      <td>106978.891844</td>\n",
       "      <td>88074.687350</td>\n",
       "      <td>64780.883336</td>\n",
       "      <td>49878.584131</td>\n",
       "      <td>49450.393285</td>\n",
       "      <td>43772.495512</td>\n",
       "      <td>19799.435754</td>\n",
       "      <td>575.785714</td>\n",
       "    </tr>\n",
       "    <tr>\n",
       "      <td>Volkswagen</td>\n",
       "      <td>234108.750000</td>\n",
       "      <td>143405.444444</td>\n",
       "      <td>140394.000000</td>\n",
       "      <td>130759.666667</td>\n",
       "      <td>159785.700000</td>\n",
       "      <td>132311.600000</td>\n",
       "      <td>214996.000000</td>\n",
       "      <td>276145.590909</td>\n",
       "      <td>237621.227273</td>\n",
       "      <td>262581.324786</td>\n",
       "      <td>...</td>\n",
       "      <td>159744.014662</td>\n",
       "      <td>148785.393201</td>\n",
       "      <td>130972.230200</td>\n",
       "      <td>113677.525801</td>\n",
       "      <td>99533.619469</td>\n",
       "      <td>84336.013072</td>\n",
       "      <td>56965.747826</td>\n",
       "      <td>23445.972973</td>\n",
       "      <td>6453.600000</td>\n",
       "      <td>47.666667</td>\n",
       "    </tr>\n",
       "    <tr>\n",
       "      <td>Volvo</td>\n",
       "      <td>255146.461538</td>\n",
       "      <td>165010.894737</td>\n",
       "      <td>217953.000000</td>\n",
       "      <td>205062.333333</td>\n",
       "      <td>355033.250000</td>\n",
       "      <td>294212.000000</td>\n",
       "      <td>277600.400000</td>\n",
       "      <td>308668.163636</td>\n",
       "      <td>383235.666667</td>\n",
       "      <td>369757.641577</td>\n",
       "      <td>...</td>\n",
       "      <td>203856.414287</td>\n",
       "      <td>179403.186224</td>\n",
       "      <td>156794.898496</td>\n",
       "      <td>133994.566259</td>\n",
       "      <td>106460.282528</td>\n",
       "      <td>78850.961664</td>\n",
       "      <td>77191.878027</td>\n",
       "      <td>67059.946652</td>\n",
       "      <td>31312.384615</td>\n",
       "      <td>3177.379310</td>\n",
       "    </tr>\n",
       "    <tr>\n",
       "      <td>Ford</td>\n",
       "      <td>87757.928571</td>\n",
       "      <td>60712.066667</td>\n",
       "      <td>53046.470588</td>\n",
       "      <td>131336.400000</td>\n",
       "      <td>97402.923077</td>\n",
       "      <td>78940.666667</td>\n",
       "      <td>65932.761905</td>\n",
       "      <td>81684.526316</td>\n",
       "      <td>67185.900000</td>\n",
       "      <td>79835.037313</td>\n",
       "      <td>...</td>\n",
       "      <td>157081.444769</td>\n",
       "      <td>148637.108514</td>\n",
       "      <td>125160.499245</td>\n",
       "      <td>101874.456029</td>\n",
       "      <td>79398.724272</td>\n",
       "      <td>61977.502650</td>\n",
       "      <td>62137.467778</td>\n",
       "      <td>54777.152659</td>\n",
       "      <td>20353.620253</td>\n",
       "      <td>293.767857</td>\n",
       "    </tr>\n",
       "    <tr>\n",
       "      <td>Mercedes-Benz</td>\n",
       "      <td>281844.511628</td>\n",
       "      <td>264175.196429</td>\n",
       "      <td>262892.803030</td>\n",
       "      <td>277967.623529</td>\n",
       "      <td>303626.942029</td>\n",
       "      <td>322148.582677</td>\n",
       "      <td>368352.842105</td>\n",
       "      <td>361506.609428</td>\n",
       "      <td>365459.227468</td>\n",
       "      <td>395207.523743</td>\n",
       "      <td>...</td>\n",
       "      <td>204972.060658</td>\n",
       "      <td>183055.597740</td>\n",
       "      <td>167051.185458</td>\n",
       "      <td>138294.779018</td>\n",
       "      <td>113644.323835</td>\n",
       "      <td>83795.909757</td>\n",
       "      <td>77714.914369</td>\n",
       "      <td>64624.453941</td>\n",
       "      <td>22791.638889</td>\n",
       "      <td>555.793814</td>\n",
       "    </tr>\n",
       "  </tbody>\n",
       "</table>\n",
       "<p>5 rows × 40 columns</p>\n",
       "</div>"
      ],
      "text/plain": [
       "date                    1980           1981           1982           1983  \\\n",
       "Toyota          61507.600000  182770.000000  270750.821429  245851.038462   \n",
       "Volkswagen     234108.750000  143405.444444  140394.000000  130759.666667   \n",
       "Volvo          255146.461538  165010.894737  217953.000000  205062.333333   \n",
       "Ford            87757.928571   60712.066667   53046.470588  131336.400000   \n",
       "Mercedes-Benz  281844.511628  264175.196429  262892.803030  277967.623529   \n",
       "\n",
       "date                    1984           1985           1986           1987  \\\n",
       "Toyota         199175.000000  244806.300000  243726.500000  332273.461538   \n",
       "Volkswagen     159785.700000  132311.600000  214996.000000  276145.590909   \n",
       "Volvo          355033.250000  294212.000000  277600.400000  308668.163636   \n",
       "Ford            97402.923077   78940.666667   65932.761905   81684.526316   \n",
       "Mercedes-Benz  303626.942029  322148.582677  368352.842105  361506.609428   \n",
       "\n",
       "date                    1988           1989  ...           2010  \\\n",
       "Toyota         349208.952381  281419.178788  ...  140234.134099   \n",
       "Volkswagen     237621.227273  262581.324786  ...  159744.014662   \n",
       "Volvo          383235.666667  369757.641577  ...  203856.414287   \n",
       "Ford            67185.900000   79835.037313  ...  157081.444769   \n",
       "Mercedes-Benz  365459.227468  395207.523743  ...  204972.060658   \n",
       "\n",
       "date                    2011           2012           2013           2014  \\\n",
       "Toyota         126128.917862  106978.891844   88074.687350   64780.883336   \n",
       "Volkswagen     148785.393201  130972.230200  113677.525801   99533.619469   \n",
       "Volvo          179403.186224  156794.898496  133994.566259  106460.282528   \n",
       "Ford           148637.108514  125160.499245  101874.456029   79398.724272   \n",
       "Mercedes-Benz  183055.597740  167051.185458  138294.779018  113644.323835   \n",
       "\n",
       "date                   2015          2016          2017          2018  \\\n",
       "Toyota         49878.584131  49450.393285  43772.495512  19799.435754   \n",
       "Volkswagen     84336.013072  56965.747826  23445.972973   6453.600000   \n",
       "Volvo          78850.961664  77191.878027  67059.946652  31312.384615   \n",
       "Ford           61977.502650  62137.467778  54777.152659  20353.620253   \n",
       "Mercedes-Benz  83795.909757  77714.914369  64624.453941  22791.638889   \n",
       "\n",
       "date                  2019  \n",
       "Toyota          575.785714  \n",
       "Volkswagen       47.666667  \n",
       "Volvo          3177.379310  \n",
       "Ford            293.767857  \n",
       "Mercedes-Benz   555.793814  \n",
       "\n",
       "[5 rows x 40 columns]"
      ]
     },
     "execution_count": 4,
     "metadata": {},
     "output_type": "execute_result"
    }
   ],
   "source": [
    "pivot = pd.pivot_table(data, values='mileage', index=['make'],columns=data[\"date\"].dt.year, aggfunc=np.mean)\n",
    "miles = pivot.loc[top5makes.index, 1980:]\n",
    "miles"
   ]
  },
  {
   "cell_type": "code",
   "execution_count": 5,
   "metadata": {},
   "outputs": [
    {
     "data": {
      "text/plain": [
       "<matplotlib.axes._subplots.AxesSubplot at 0x23653d83548>"
      ]
     },
     "execution_count": 5,
     "metadata": {},
     "output_type": "execute_result"
    },
    {
     "data": {
      "image/png": "[encoded data removed]",
      "text/plain": [
       "<Figure size 432x288 with 1 Axes>"
      ]
     },
     "metadata": {
      "needs_background": "light"
     },
     "output_type": "display_data"
    }
   ],
   "source": [
    "miles.T.plot()"
   ]
  }
 ],
 "metadata": {
  "kernelspec": {
   "display_name": "Python 3",
   "language": "python",
   "name": "python3"
  },
  "language_info": {
   "codemirror_mode": {
    "name": "ipython",
    "version": 3
   },
   "file_extension": ".py",
   "mimetype": "text/x-python",
   "name": "python",
   "nbconvert_exporter": "python",
   "pygments_lexer": "ipython3",
   "version": "3.7.4"
  }
 },
 "nbformat": 4,
 "nbformat_minor": 2
}
