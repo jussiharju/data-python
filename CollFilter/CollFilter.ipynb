{
 "cells": [
  {
   "cell_type": "code",
   "execution_count": 2,
   "metadata": {},
   "outputs": [],
   "source": [
    "import pandas as pd\n",
    "import numpy as np\n",
    "df = pd.read_csv(\"lastfm-matrix-germany.csv\", index_col=0)"
   ]
  },
  {
   "cell_type": "code",
   "execution_count": 4,
   "metadata": {},
   "outputs": [
    {
     "data": {
      "text/plain": [
       "(728, 195)"
      ]
     },
     "execution_count": 4,
     "metadata": {},
     "output_type": "execute_result"
    }
   ],
   "source": [
    "data.shape"
   ]
  },
  {
   "cell_type": "code",
   "execution_count": 3,
   "metadata": {},
   "outputs": [],
   "source": [
    "data = df.loc[(df.sum(axis=1) >= 10), (df.sum(axis=0) >= 35)]"
   ]
  },
  {
   "cell_type": "code",
   "execution_count": 6,
   "metadata": {},
   "outputs": [],
   "source": [
    "from scipy.spatial import distance as d\n",
    "artdists = d.squareform(d.pdist(data.T, \"cosine\"))"
   ]
  },
  {
   "cell_type": "code",
   "execution_count": 7,
   "metadata": {},
   "outputs": [],
   "source": [
    "usrdists = d.squareform(d.pdist(data, \"cosine\"))"
   ]
  },
  {
   "cell_type": "code",
   "execution_count": 51,
   "metadata": {},
   "outputs": [
    {
     "name": "stdout",
     "output_type": "stream",
     "text": [
      "0.44037735323249494: (in extremo, subway to sally) "
     ]
    }
   ],
   "source": [
    "mindist = 1\n",
    "pairs = []\n",
    "for i in range(len(artdists)):\n",
    "    for j in range(i):\n",
    "        if artdists[j,i] < mindist:\n",
    "            mindist = artdists[j,i]\n",
    "            pairs = []\n",
    "            pairs.append((j,i))\n",
    "        elif artdists[i,j] == mindist:\n",
    "            pairs.append((j,i))\n",
    "print(mindist, \":\", end=\"\", sep=\"\")\n",
    "for p in pairs:\n",
    "    print(\" ({}, {}) \".format(data.columns[p[0]], data.columns[p[1]]), end=\"\")"
   ]
  },
  {
   "cell_type": "code",
   "execution_count": 52,
   "metadata": {},
   "outputs": [
    {
     "name": "stdout",
     "output_type": "stream",
     "text": [
      "0.24622163855559098: (2182, 17437) "
     ]
    }
   ],
   "source": [
    "mindist = 1\n",
    "pairs = []\n",
    "for i in range(len(usrdists)):\n",
    "    for j in range(i):\n",
    "        if usrdists[j,i] < mindist:\n",
    "            mindist = usrdists[j,i]\n",
    "            pairs = []\n",
    "            pairs.append((j,i))\n",
    "        elif usrdists[i,j] == mindist:\n",
    "            pairs.append((j,i))\n",
    "print(mindist, \":\", end=\"\", sep=\"\")\n",
    "for p in pairs:\n",
    "    print(\" ({}, {}) \".format(data.index[p[0]], data.index[p[1]]), end=\"\")"
   ]
  },
  {
   "cell_type": "code",
   "execution_count": 74,
   "metadata": {},
   "outputs": [],
   "source": [
    "def smallestDistance(s):\n",
    "    dists = artdists[data.columns.get_loc(s)]\n",
    "    maxdist = np.sort(dists)[10]\n",
    "\n",
    "    artists = []\n",
    "    for i in range(len(dists)):\n",
    "        if dists[i] <= maxdist:\n",
    "            if i != data.columns.get_loc(s):\n",
    "                artists.append((dists[i], i))\n",
    "    artistsorted = sorted(artists, key=lambda x: x[0])\n",
    "    print(\"10 artists that are most similar to {}\".format(s))\n",
    "    for j, a in enumerate(artistsorted):\n",
    "        print(\"{}. {}, dist = {}\".format(j+1, data.columns[a[1]], a[0]))\n",
    "    print()"
   ]
  },
  {
   "cell_type": "code",
   "execution_count": 75,
   "metadata": {},
   "outputs": [
    {
     "name": "stdout",
     "output_type": "stream",
     "text": [
      "10 artists that are most similar to rihanna\n",
      "1. nelly furtado, dist = 0.5954939852222969\n",
      "2. christina aguilera, dist = 0.6000799760079971\n",
      "3. timbaland, dist = 0.6246261296455402\n",
      "4. britney spears, dist = 0.6267115561726\n",
      "5. justin timberlake, dist = 0.65146074355549\n",
      "6. black eyed peas, dist = 0.722586760145392\n",
      "7. madonna, dist = 0.7234087271072401\n",
      "8. pink, dist = 0.7266438240454041\n",
      "9. kanye west, dist = 0.7310687605133204\n",
      "10. david guetta, dist = 0.7368226926918523\n",
      "\n",
      "10 artists that are most similar to nirvana\n",
      "1. red hot chili peppers, dist = 0.6738678609638615\n",
      "2. the offspring, dist = 0.6843628850942374\n",
      "3. system of a down, dist = 0.693488578044472\n",
      "4. metallica, dist = 0.7177940591214729\n",
      "5. beatsteaks, dist = 0.7264150943396227\n",
      "6. rammstein, dist = 0.7291074948874636\n",
      "7. the white stripes, dist = 0.7309400675144733\n",
      "8. die toten hosen, dist = 0.7361917294928024\n",
      "9. foo fighters, dist = 0.7406962746981773\n",
      "10. rage against the machine, dist = 0.7449278362535763\n",
      "\n",
      "10 artists that are most similar to kanye west\n",
      "1. timbaland, dist = 0.6110777658687014\n",
      "2. justin timberlake, dist = 0.6860860294683875\n",
      "3. rihanna, dist = 0.7310687605133204\n",
      "4. deichkind, dist = 0.7355026507947093\n",
      "5. david guetta, dist = 0.7564559064764738\n",
      "6. peter fox, dist = 0.7694489391975461\n",
      "7. nelly furtado, dist = 0.7884224117689744\n",
      "8. linkin park, dist = 0.793502656562655\n",
      "9. razorlight, dist = 0.7981981618011063\n",
      "10. the killers, dist = 0.8004050163826347\n",
      "\n"
     ]
    }
   ],
   "source": [
    "smallestDistance(\"rihanna\")\n",
    "smallestDistance(\"nirvana\")\n",
    "smallestDistance(\"kanye west\")"
   ]
  }
 ],
 "metadata": {
  "kernelspec": {
   "display_name": "Python 3",
   "language": "python",
   "name": "python3"
  },
  "language_info": {
   "codemirror_mode": {
    "name": "ipython",
    "version": 3
   },
   "file_extension": ".py",
   "mimetype": "text/x-python",
   "name": "python",
   "nbconvert_exporter": "python",
   "pygments_lexer": "ipython3",
   "version": "3.7.4"
  }
 },
 "nbformat": 4,
 "nbformat_minor": 2
}
