{
 "cells": [
  {
   "cell_type": "code",
   "execution_count": 6,
   "metadata": {
    "scrolled": true
   },
   "outputs": [
    {
     "ename": "TypeError",
     "evalue": "'encoding' is an invalid keyword argument for this function",
     "output_type": "error",
     "traceback": [
      "\u001b[1;31m---------------------------------------------------------------------------\u001b[0m",
      "\u001b[1;31mTypeError\u001b[0m                                 Traceback (most recent call last)",
      "\u001b[1;32m<ipython-input-6-a2321e972f81>\u001b[0m in \u001b[0;36m<module>\u001b[1;34m\u001b[0m\n\u001b[0;32m      4\u001b[0m \u001b[0mnames\u001b[0m \u001b[1;33m=\u001b[0m \u001b[1;33m[\u001b[0m\u001b[1;33m]\u001b[0m\u001b[1;33m\u001b[0m\u001b[1;33m\u001b[0m\u001b[0m\n\u001b[0;32m      5\u001b[0m \u001b[1;32mwith\u001b[0m \u001b[0mopen\u001b[0m\u001b[1;33m(\u001b[0m\u001b[1;34m\"population_utf8.csv\"\u001b[0m\u001b[1;33m)\u001b[0m \u001b[1;32mas\u001b[0m \u001b[0minfile\u001b[0m\u001b[1;33m:\u001b[0m\u001b[1;33m\u001b[0m\u001b[1;33m\u001b[0m\u001b[0m\n\u001b[1;32m----> 6\u001b[1;33m     \u001b[0mrd\u001b[0m \u001b[1;33m=\u001b[0m \u001b[0mcsv\u001b[0m\u001b[1;33m.\u001b[0m\u001b[0mreader\u001b[0m\u001b[1;33m(\u001b[0m\u001b[0minfile\u001b[0m\u001b[1;33m,\u001b[0m \u001b[0mdelimiter\u001b[0m\u001b[1;33m=\u001b[0m\u001b[1;34m\";\"\u001b[0m\u001b[1;33m,\u001b[0m \u001b[0mencoding\u001b[0m\u001b[1;33m=\u001b[0m\u001b[1;34m\"latin\"\u001b[0m\u001b[1;33m)\u001b[0m\u001b[1;33m\u001b[0m\u001b[1;33m\u001b[0m\u001b[0m\n\u001b[0m\u001b[0;32m      7\u001b[0m     \u001b[1;32mfor\u001b[0m \u001b[0mline\u001b[0m \u001b[1;32min\u001b[0m \u001b[0mrd\u001b[0m\u001b[1;33m:\u001b[0m\u001b[1;33m\u001b[0m\u001b[1;33m\u001b[0m\u001b[0m\n\u001b[0;32m      8\u001b[0m         \u001b[0mpops\u001b[0m\u001b[1;33m.\u001b[0m\u001b[0mappend\u001b[0m\u001b[1;33m(\u001b[0m\u001b[0mint\u001b[0m\u001b[1;33m(\u001b[0m\u001b[0mline\u001b[0m\u001b[1;33m[\u001b[0m\u001b[1;36m2\u001b[0m\u001b[1;33m]\u001b[0m\u001b[1;33m)\u001b[0m\u001b[1;33m)\u001b[0m\u001b[1;33m\u001b[0m\u001b[1;33m\u001b[0m\u001b[0m\n",
      "\u001b[1;31mTypeError\u001b[0m: 'encoding' is an invalid keyword argument for this function"
     ]
    }
   ],
   "source": [
    "import csv\n",
    "import numpy as np\n",
    "pops = []\n",
    "names = []\n",
    "with open(\"population_utf8.csv\") as infile:\n",
    "    rd = csv.reader(infile, delimiter=\";\", encoding=\"latin\")\n",
    "    for line in rd:\n",
    "        pops.append(int(line[2]))\n",
    "        names.append(line[0])\n",
    "np_pops = np.array(pops)\n",
    "np_names = np.array(names)\n",
    "np_names"
   ]
  },
  {
   "cell_type": "code",
   "execution_count": 3,
   "metadata": {},
   "outputs": [
    {
     "data": {
      "text/plain": [
       "array(['3601', '5688', '19428', ..., '55308', '5275', '26668'],\n",
       "      dtype='<U11')"
      ]
     },
     "execution_count": 3,
     "metadata": {},
     "output_type": "execute_result"
    }
   ],
   "source": [
    "speeds = []\n",
    "names2 = []\n",
    "with open(\"results-2019-01-nopeustesti.csv\") as infile:\n",
    "    rd = csv.reader(infile, delimiter=\",\")\n",
    "    next(rd)\n",
    "    for line in rd:\n",
    "        try:\n",
    "            speeds.append(int(line[4]))\n",
    "        except:\n",
    "            speeds.append(line[4])\n",
    "        names2.append(line[3])\n",
    "np_speeds = np.array(speeds)\n",
    "np_names2 = np.array(names2)\n",
    "np_speeds"
   ]
  },
  {
   "cell_type": "code",
   "execution_count": 4,
   "metadata": {},
   "outputs": [
    {
     "data": {
      "text/plain": [
       "array(['Akaa', 'AlahÃ¤rmÃ¤', 'AlajÃ¤rvi', 'Alastaro', 'Alavieska',\n",
       "       'Alavus', 'Anjalankoski', 'ArtjÃ¤rvi;ArtsjÃ¶', 'Asikkala',\n",
       "       'Askainen;VillnÃ¤s', 'Askola', 'Aura', 'BrÃ¤ndÃ¶', 'DragsfjÃ¤rd',\n",
       "       'EckerÃ¶', 'ElimÃ¤ki', 'Eno', 'Enonkoski', 'EnontekiÃ¶;Enontekis',\n",
       "       'Espoo;Esbo', 'Eura', 'Eurajoki;EuraÃ¥minne', 'EvijÃ¤rvi',\n",
       "       'FinstrÃ¶m', 'Forssa', 'FÃ¶glÃ¶', 'Geta', 'HaapajÃ¤rvi',\n",
       "       'Haapavesi', 'Hailuoto;KarlÃ¶', 'Halikko', 'Halsua',\n",
       "       'Hamina;Fredrikshamn', 'Hammarland', 'Hankasalmi', 'Hanko;HangÃ¶',\n",
       "       'Harjavalta', 'Hartola', 'Hattula', 'Hauho', 'Haukipudas',\n",
       "       'Haukivuori', 'HausjÃ¤rvi', 'Heinola', 'HeinÃ¤vesi',\n",
       "       'Helsinki;Helsingfors', 'Himanka', 'Hirvensalmi', 'Hollola',\n",
       "       'Honkajoki', 'Houtskari;HoutskÃ¤r', 'Huittinen', 'Humppila',\n",
       "       'Hyrynsalmi', 'HyvinkÃ¤Ã¤;Hyvinge', 'HÃ¤meenkoski',\n",
       "       'HÃ¤meenkyrÃ¶;Tavastkyro', 'HÃ¤meenlinna;Tavastehus', 'Ii',\n",
       "       'Iisalmi;Idensalmi', 'Iitti', 'Ikaalinen;Ikalis', 'Ilmajoki',\n",
       "       'Ilomantsi;Ilomants', 'Imatra', 'Inari;Enare', 'IniÃ¶',\n",
       "       'Inkoo;IngÃ¥', 'Isojoki;StorÃ¥', 'IsokyrÃ¶;Storkyro', 'Jaala',\n",
       "       'JalasjÃ¤rvi', 'Janakkala', 'Joensuu', 'Jokioinen;Jockis',\n",
       "       'Jomala', 'Joroinen;Jorois', 'Joutsa', 'Joutseno', 'Juankoski',\n",
       "       'Jurva', 'Juuka', 'Juupajoki', 'Juva', 'JyvÃ¤skylÃ¤',\n",
       "       'JyvÃ¤skylÃ¤n mlk;JyvÃ¤skylÃ¤ lk', 'JÃ¤mijÃ¤rvi', 'JÃ¤msÃ¤',\n",
       "       'JÃ¤msÃ¤nkoski', 'JÃ¤ppilÃ¤', 'JÃ¤rvenpÃ¤Ã¤;TrÃ¤skÃ¤nda',\n",
       "       'Kaarina;S:t Karins', 'Kaavi', 'Kajaani;Kajana', 'Kalajoki',\n",
       "       'Kalvola', 'Kangasala', 'Kangaslampi', 'Kangasniemi',\n",
       "       'KankaanpÃ¤Ã¤', 'Kannonkoski', 'Kannus', 'Karijoki;BÃ¶tom',\n",
       "       'Karinainen', 'Karjaa;Karis', 'Karjalohja;Karislojo',\n",
       "       'Karkkila;HÃ¶gfors', 'Karstula', 'Karttula', 'Karvia',\n",
       "       'Kaskinen;KaskÃ¶', 'Kauhajoki', 'Kauhava', 'Kauniainen;Grankulla',\n",
       "       'Kaustinen;Kaustby', 'Keitele', 'Kemi', 'KemijÃ¤rvi', 'Keminmaa',\n",
       "       'KemiÃ¶;Kimito', 'KemiÃ¶nsaari;KimitoÃ¶n', 'Kempele',\n",
       "       'Kerava;Kervo', 'KerimÃ¤ki', 'KestilÃ¤', 'KesÃ¤lahti', 'Keuruu',\n",
       "       'KihniÃ¶', 'Kiihtelysvaara', 'Kiikala', 'Kiikoinen', 'Kiiminki',\n",
       "       'Kinnula', 'Kirkkonummi;KyrkslÃ¤tt', 'Kisko', 'Kitee', 'KittilÃ¤',\n",
       "       'Kiukainen', 'Kiuruvesi', 'KivijÃ¤rvi', 'Kodisjoki',\n",
       "       'KokemÃ¤ki;Kumo', 'Kokkola;Karleby', 'Kolari', 'Konnevesi',\n",
       "       'Kontiolahti', 'Korpilahti', 'Korppoo;Korpo', 'KorsnÃ¤s',\n",
       "       'KortesjÃ¤rvi', 'Koski Tl', 'Kotka', 'Kouvola',\n",
       "       'Kristiinankaupunki;Kristinestad', 'Kruunupyy;Kronoby',\n",
       "       'Kuhmalahti', 'Kuhmo', 'Kuhmoinen', 'Kuivaniemi', 'Kullaa',\n",
       "       'Kumlinge', 'Kuopio', 'Kuortane', 'Kurikka', 'Kuru',\n",
       "       'Kustavi;Gustavs', 'Kuusamo', 'Kuusankoski', 'Kuusjoki',\n",
       "       'KylmÃ¤koski', 'KyyjÃ¤rvi', 'KÃ¤lviÃ¤;KelviÃ¥', 'KÃ¤rkÃ¶lÃ¤',\n",
       "       'KÃ¤rsÃ¤mÃ¤ki', 'KÃ¶kar', 'KÃ¶yliÃ¶;Kjulo', 'Lahti;Lahtis',\n",
       "       'Laihia;Laihela', 'Laitila', 'Lammi', 'LapinjÃ¤rvi;LapptrÃ¤sk',\n",
       "       'Lapinlahti', 'LappajÃ¤rvi', 'Lappeenranta;Villmanstrand', 'Lappi',\n",
       "       'Lapua;Lappo', 'Laukaa', 'Lavia', 'LehtimÃ¤ki', 'LeivonmÃ¤ki',\n",
       "       'Lemi', 'Lemland', 'LempÃ¤Ã¤lÃ¤', 'Lemu', 'LeppÃ¤virta',\n",
       "       'LestijÃ¤rvi', 'Lieksa', 'Lieto;Lundo', 'Liljendal',\n",
       "       'Liminka;Limingo', 'Liperi', 'Lohja;Lojo', 'Lohtaja;LochteÃ¥',\n",
       "       'Loimaa', 'Loimaan kunta;Loimaa kommun', 'Loppi', 'Loviisa;Lovisa',\n",
       "       'Luhanka', 'Lumijoki', 'Lumparland', 'Luopioinen', 'Luoto;Larsmo',\n",
       "       'LuumÃ¤ki', 'Luvia', 'LÃ¤ngelmÃ¤ki', 'Maalahti;Malax', 'Maaninka',\n",
       "       'Maarianhamina;Mariehamn', 'Maksamaa;Maxmo', 'Marttila', 'Masku',\n",
       "       'MellilÃ¤', 'MerijÃ¤rvi', 'Merikarvia;Sastmola', 'Merimasku',\n",
       "       'MiehikkÃ¤lÃ¤', 'Mietoinen', 'Mikkeli;S:t Michel', 'MouhijÃ¤rvi',\n",
       "       'Muhos', 'Multia', 'Muonio', 'Mustasaari;Korsholm', 'Muurame',\n",
       "       'Muurla', 'MynÃ¤mÃ¤ki', 'MyrskylÃ¤;MÃ¶rskom', 'MÃ¤ntsÃ¤lÃ¤',\n",
       "       'MÃ¤nttÃ¤', 'MÃ¤nttÃ¤-Vilppula', 'MÃ¤ntyharju',\n",
       "       'Naantali;NÃ¥dendal', 'Nakkila', 'Nastola', 'Nauvo;Nagu',\n",
       "       'NilsiÃ¤', 'Nivala', 'Nokia', 'Noormarkku;Norrmark',\n",
       "       'Nousiainen;Nousis', 'Nummi-Pusula', 'Nurmes', 'NurmijÃ¤rvi',\n",
       "       'Nurmo', 'NÃ¤rpiÃ¶;NÃ¤rpes', 'Oravainen;Oravais', 'Orimattila',\n",
       "       'OripÃ¤Ã¤', 'Orivesi', 'Oulainen', 'Oulu;UleÃ¥borg', 'Oulunsalo',\n",
       "       'Outokumpu', 'Padasjoki', 'Paimio;Pemar', 'Paltamo',\n",
       "       'Parainen;Pargas (entinen)',\n",
       "       'Parainen;Pargas (entinen LÃ¤nsi-Turunmaa;VÃ¤stÃ¥boland)',\n",
       "       'Parikkala', 'Parkano', 'PedersÃ¶ren kunta;PedersÃ¶re',\n",
       "       'Pelkosenniemi', 'Pello', 'Perho', 'Pernaja;PernÃ¥',\n",
       "       'PerniÃ¶;BjÃ¤rnÃ¥', 'Pertteli', 'Pertunmaa', 'PerÃ¤seinÃ¤joki',\n",
       "       'PetÃ¤jÃ¤vesi', 'PieksÃ¤mÃ¤en mlk;PieksÃ¤mÃ¤ki lk', 'PieksÃ¤mÃ¤ki',\n",
       "       'PieksÃ¤nmaa', 'Pielavesi', 'Pietarsaari;Jakobstad', 'Pihtipudas',\n",
       "       'PiikkiÃ¶;Pikis', 'Piippola', 'Pirkkala;Birkala', 'Pohja;Pojo',\n",
       "       'PolvijÃ¤rvi', 'Pomarkku;PÃ¥mark', 'Pori;BjÃ¶rneborg',\n",
       "       'Pornainen;BorgnÃ¤s', 'Porvoo;BorgÃ¥', 'Posio', 'PudasjÃ¤rvi',\n",
       "       'Pukkila', 'Pulkkila', 'Punkaharju', 'Punkalaidun', 'Puolanka',\n",
       "       'Puumala', 'PyhtÃ¤Ã¤;Pyttis', 'PyhÃ¤joki', 'PyhÃ¤jÃ¤rvi',\n",
       "       'PyhÃ¤ntÃ¤', 'PyhÃ¤ranta', 'PyhÃ¤selkÃ¤', 'PylkÃ¶nmÃ¤ki',\n",
       "       'PÃ¤lkÃ¤ne', 'PÃ¶ytyÃ¤', 'Raahe;Brahestad', 'Raasepori;Raseborg',\n",
       "       'Raisio;Reso', 'Rantasalmi', 'Rantsila', 'Ranua', 'Rauma;Raumo',\n",
       "       'Rautalampi', 'Rautavaara', 'RautjÃ¤rvi', 'ReisjÃ¤rvi', 'Renko',\n",
       "       'RiihimÃ¤ki', 'Ristiina', 'RistijÃ¤rvi',\n",
       "       'Rovaniemen mlk;Rovaniemi lk', 'Rovaniemi', 'Ruokolahti',\n",
       "       'RuotsinpyhtÃ¤Ã¤;StrÃ¶mfors', 'Ruovesi', 'Rusko', 'Ruukki',\n",
       "       'RymÃ¤ttylÃ¤;Rimito', 'RÃ¤Ã¤kkylÃ¤', 'Saari', 'SaarijÃ¤rvi',\n",
       "       'Sahalahti', 'Salla', 'Salo', 'Saltvik', 'Sammatti', 'Sastamala',\n",
       "       'Sauvo;Sagu', 'Savitaipale', 'Savonlinna;Nyslott', 'Savonranta',\n",
       "       'Savukoski', 'SeinÃ¤joki', 'Sievi', 'Siikainen', 'Siikajoki',\n",
       "       'Siikalatva', 'SiilinjÃ¤rvi', 'Simo', 'Sipoo;Sibbo',\n",
       "       'Siuntio;SjundeÃ¥', 'SodankylÃ¤', 'Soini', 'Somero', 'SonkajÃ¤rvi',\n",
       "       'Sotkamo', 'Sottunga', 'Sulkava', 'Sumiainen', 'Sund',\n",
       "       'Suodenniemi', 'Suolahti', 'Suomenniemi', 'SuomusjÃ¤rvi',\n",
       "       'Suomussalmi', 'Suonenjoki', 'SysmÃ¤', 'SÃ¤kylÃ¤',\n",
       "       'SÃ¤rkisalo;Finby', 'Taipalsaari', 'Taivalkoski',\n",
       "       'Taivassalo;TÃ¶vsala', 'Tammela', 'Tammisaari;EkenÃ¤s',\n",
       "       'Tampere;Tammerfors', 'Tarvasjoki', 'Tervo', 'Tervola',\n",
       "       'Teuva;Ã–stermark', 'TohmajÃ¤rvi', 'Toholampi', 'Toijala',\n",
       "       'Toivakka', 'Tornio;TorneÃ¥', 'Turku;Ã…bo', 'Tuulos', 'Tuupovaara',\n",
       "       'Tuusniemi', 'Tuusula;Tusby', 'TyrnÃ¤vÃ¤', 'TÃ¶ysÃ¤', 'Ullava',\n",
       "       'Ulvila;Ulvsby', 'Urjala', 'UtajÃ¤rvi', 'Utsjoki', 'Uukuniemi',\n",
       "       'Uurainen', 'Uusikaarlepyy;Nykarleby', 'Uusikaupunki;Nystad',\n",
       "       'Vaala', 'Vaasa;Vasa', 'Vahto', 'Valkeakoski', 'Valkeala',\n",
       "       'Valtimo', 'Vammala', 'Vampula', 'Vantaa;Vanda', 'Varkaus',\n",
       "       'VarpaisjÃ¤rvi', 'Vehmaa', 'Vehmersalmi', 'Velkua', 'Vesanto',\n",
       "       'Vesilahti', 'Veteli;Vetil', 'VieremÃ¤', 'Vihanti',\n",
       "       'Vihti;Vichtis', 'Viiala', 'Viitasaari', 'Viljakkala', 'Vilppula',\n",
       "       'Vimpeli', 'Virolahti', 'Virrat;Virdois', 'Virtasalmi',\n",
       "       'Vuolijoki', 'VÃ¥rdÃ¶', 'VÃ¤hÃ¤kyrÃ¶;Lillkyro', 'VÃ¤rtsilÃ¤',\n",
       "       'VÃ¤stanfjÃ¤rd', 'VÃ¶yri;VÃ¶rÃ¥', 'VÃ¶yri;VÃ¶rÃ¥ (entinen)',\n",
       "       'VÃ¶yri-Maksamaa;VÃ¶rÃ¥-Maxmo', 'YlihÃ¤rmÃ¤', 'Yli-Ii',\n",
       "       'Ylikiiminki', 'Ylistaro', 'Ylitornio;Ã–vertorneÃ¥', 'Ylivieska',\n",
       "       'YlÃ¤maa', 'YlÃ¤ne', 'YlÃ¶jÃ¤rvi', 'YpÃ¤jÃ¤', 'Ã„etsÃ¤',\n",
       "       'Ã„htÃ¤ri;Etseri', 'Ã„Ã¤nekoski'], dtype='<U55')"
      ]
     },
     "execution_count": 4,
     "metadata": {},
     "output_type": "execute_result"
    }
   ],
   "source": [
    "for s in np_names:\n",
    "    s.replace(\"ä\",\"ae\")\n",
    "    s.replace(\"ö\",\"oe\")\n",
    "    s.replace(\"å\",\"aa\")\n",
    "np_names"
   ]
  },
  {
   "cell_type": "code",
   "execution_count": 5,
   "metadata": {},
   "outputs": [
    {
     "data": {
      "text/plain": [
       "array(['Turku', 'MÃ¤ntsÃ¤lÃ¤', 'Raisio', ..., 'Kuusamo', 'Helsinki',\n",
       "       'Turku'], dtype='<U17')"
      ]
     },
     "execution_count": 5,
     "metadata": {},
     "output_type": "execute_result"
    }
   ],
   "source": [
    "for s in np_names2:\n",
    "    s.replace(\"ä\",\"ae\")\n",
    "    s.replace(\"ö\",\"oe\")\n",
    "    s.replace(\"å\",\"aa\")\n",
    "np_names2"
   ]
  },
  {
   "cell_type": "code",
   "execution_count": null,
   "metadata": {},
   "outputs": [],
   "source": []
  }
 ],
 "metadata": {
  "kernelspec": {
   "display_name": "Python 3",
   "language": "python",
   "name": "python3"
  },
  "language_info": {
   "codemirror_mode": {
    "name": "ipython",
    "version": 3
   },
   "file_extension": ".py",
   "mimetype": "text/x-python",
   "name": "python",
   "nbconvert_exporter": "python",
   "pygments_lexer": "ipython3",
   "version": "3.7.4"
  }
 },
 "nbformat": 4,
 "nbformat_minor": 2
}
