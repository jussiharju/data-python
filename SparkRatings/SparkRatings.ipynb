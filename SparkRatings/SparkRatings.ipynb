{
 "cells": [
  {
   "cell_type": "code",
   "execution_count": 131,
   "metadata": {},
   "outputs": [],
   "source": [
    "from pyspark.sql import SparkSession, functions, types\n",
    "\n",
    "spark = SparkSession\\\n",
    "        .builder\\\n",
    "        .appName(\"SparkRatings\")\\\n",
    "        .getOrCreate()\n",
    "sc = spark.sparkContext\n",
    "\n",
    "# ratings = spark.read.csv(\"hdfs:///bigdata/books/BX-Book-Ratings_sample.csv\", header=True)\n",
    "# users = spark.read.csv(\"hdfs:///bigdata/books/BX-Users_sample.csv\", header=True)\n",
    "\n",
    "\n",
    "# omasta kansiosta\n",
    "ratings = spark.read.csv(\"BX-Book-Ratings.csv\", header=True, sep=\";\")\n",
    "users = spark.read.csv(\"BX-Users.csv\", header=True, sep=\";\")"
   ]
  },
  {
   "cell_type": "code",
   "execution_count": 132,
   "metadata": {},
   "outputs": [],
   "source": [
    "split_col = functions.split(users['Location'], ',')\n",
    "users = users.withColumn('Country', split_col.getItem(2))"
   ]
  },
  {
   "cell_type": "code",
   "execution_count": 133,
   "metadata": {},
   "outputs": [],
   "source": [
    "users = users.drop('Location', 'Age')"
   ]
  },
  {
   "cell_type": "code",
   "execution_count": 134,
   "metadata": {},
   "outputs": [],
   "source": [
    "ratings = ratings.drop('ISBN')"
   ]
  },
  {
   "cell_type": "code",
   "execution_count": 137,
   "metadata": {},
   "outputs": [],
   "source": [
    "inner_join = users.join(ratings, ['User-ID'])"
   ]
  },
  {
   "cell_type": "code",
   "execution_count": 138,
   "metadata": {},
   "outputs": [],
   "source": [
    "df = df.withColumn(\"Book-Rating\", df[\"Book-Rating\"].cast(types.IntegerType()))"
   ]
  },
  {
   "cell_type": "code",
   "execution_count": 139,
   "metadata": {
    "scrolled": true
   },
   "outputs": [],
   "source": [
    "avg = df.groupBy('Country').avg('Book-Rating')"
   ]
  },
  {
   "cell_type": "code",
   "execution_count": 140,
   "metadata": {},
   "outputs": [],
   "source": [
    "count = df.groupBy(\"Country\").count()"
   ]
  },
  {
   "cell_type": "code",
   "execution_count": 141,
   "metadata": {
    "scrolled": false
   },
   "outputs": [],
   "source": [
    "inner_join2 = count.join(avg, ['Country'])"
   ]
  },
  {
   "cell_type": "code",
   "execution_count": 142,
   "metadata": {},
   "outputs": [],
   "source": [
    "data = inner_join2.select(inner_join2[\"Country\"].alias(\"country\"), inner_join2[\"count\"].alias(\"ratings\"), inner_join2[\"avg(Book-Rating)\"].alias(\"average rating\"))"
   ]
  },
  {
   "cell_type": "code",
   "execution_count": 143,
   "metadata": {},
   "outputs": [
    {
     "name": "stdout",
     "output_type": "stream",
     "text": [
      "+--------------------+-------+--------------+\n",
      "|             country|ratings|average rating|\n",
      "+--------------------+-------+--------------+\n",
      "|           la suisse|      3|           6.0|\n",
      "|  baden-wuerttemberg|      2|           0.0|\n",
      "|         west indies|     12|           3.7|\n",
      "|            missouri|      5|           4.2|\n",
      "| netherlands anti...|      3|           6.0|\n",
      "+--------------------+-------+--------------+\n",
      "only showing top 5 rows\n",
      "\n"
     ]
    }
   ],
   "source": [
    "data = data.withColumn(\"average rating\", functions.round(data[\"average rating\"], 1))\n",
    "data.show(5)"
   ]
  },
  {
   "cell_type": "code",
   "execution_count": 144,
   "metadata": {},
   "outputs": [
    {
     "name": "stdout",
     "output_type": "stream",
     "text": [
      "+--------------------+\n",
      "|                 csv|\n",
      "+--------------------+\n",
      "|     la suisse;3;6.0|\n",
      "| baden-wuerttembe...|\n",
      "|  west indies;12;3.7|\n",
      "|      missouri;5;4.2|\n",
      "| netherlands anti...|\n",
      "|      unknown;1;10.0|\n",
      "|        61 men;1;0.0|\n",
      "|   new mexico;11;4.4|\n",
      "| republic of pana...|\n",
      "|     worcester;1;8.0|\n",
      "|       egypt;102;3.0|\n",
      "| north carolina;1...|\n",
      "|  south island;2;0.0|\n",
      "|       jamaica;9;2.7|\n",
      "|        veneto;1;8.0|\n",
      "|    burlington;1;0.0|\n",
      "| canary islands;1...|\n",
      "|        hawaii;5;3.8|\n",
      "|     middlesex;1;8.0|\n",
      "|     fort bend;3;7.7|\n",
      "+--------------------+\n",
      "only showing top 20 rows\n",
      "\n"
     ]
    }
   ],
   "source": [
    "csvdata = data.select(functions.concat(data[\"country\"], functions.lit(\";\"), data[\"ratings\"], functions.lit(\";\"), data[\"average rating\"]))\n",
    "csvdata = csvdata.withColumnRenamed(\"concat(country, ;, ratings, ;, average rating)\", \"csv\")\n",
    "csvdata.show()"
   ]
  }
 ],
 "metadata": {
  "kernelspec": {
   "display_name": "Python 3",
   "language": "python",
   "name": "python3"
  },
  "language_info": {
   "codemirror_mode": {
    "name": "ipython",
    "version": 3
   },
   "file_extension": ".py",
   "mimetype": "text/x-python",
   "name": "python",
   "nbconvert_exporter": "python",
   "pygments_lexer": "ipython3",
   "version": "3.7.4"
  }
 },
 "nbformat": 4,
 "nbformat_minor": 2
}
