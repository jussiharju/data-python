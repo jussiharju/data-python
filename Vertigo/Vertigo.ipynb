{
 "cells": [
  {
   "cell_type": "code",
   "execution_count": 56,
   "metadata": {},
   "outputs": [],
   "source": [
    "import pandas as pd\n",
    "from sklearn.linear_model import Perceptron"
   ]
  },
  {
   "cell_type": "code",
   "execution_count": 57,
   "metadata": {},
   "outputs": [],
   "source": [
    "train = pd.read_csv(\"vertigo_train.txt\", sep=\" \", header=None)\n",
    "pred = pd.read_csv(\"vertigo_predict.txt\", sep=\" \", header=None)\n",
    "ans = pd.read_csv(\"vertigo_answers.txt\", sep=\" \", header=None)"
   ]
  },
  {
   "cell_type": "code",
   "execution_count": 58,
   "metadata": {},
   "outputs": [],
   "source": [
    "def manhattanDistance(x, y):\n",
    "    return sum([abs(a-b) for a,b in zip(x,y)])"
   ]
  },
  {
   "cell_type": "code",
   "execution_count": 62,
   "metadata": {},
   "outputs": [],
   "source": [
    "guess = []\n",
    "for i in range(len(pred)):\n",
    "    min_ind = 0\n",
    "    min_dist = manhattanDistance(train.iloc[0,1:6], pred.iloc[i,0:5])\n",
    "    for j in range(len(train)):\n",
    "        if manhattanDistance(train.iloc[j,1:6], pred.iloc[i,0:5]) < min_dist:\n",
    "            min_ind = j\n",
    "            min_dist = manhattanDistance(train.iloc[j,1:6], pred.iloc[i,0:5])\n",
    "    guess.append(train.iloc[min_ind, 0])"
   ]
  },
  {
   "cell_type": "code",
   "execution_count": 60,
   "metadata": {},
   "outputs": [],
   "source": [
    "def percentage(x,y):\n",
    "    percentage = (sum((pd.DataFrame(x) == y)[0])/len(y)) * 100\n",
    "    return round(percentage, 2)"
   ]
  },
  {
   "cell_type": "code",
   "execution_count": 63,
   "metadata": {},
   "outputs": [
    {
     "name": "stdout",
     "output_type": "stream",
     "text": [
      "Perceptron (default): 80.41% correct\n",
      "Perceptron (max_iter = 10): 73.71% correct\n",
      "Perceptron (max_iter = 50): 80.41% correct\n",
      "Perceptron (max_iter = 100): 80.41% correct\n",
      "Perceptron (max_iter = 250): 80.41% correct\n",
      "Perceptron (max_iter = 500): 80.41% correct\n",
      "Perceptron (max_iter = 1000): 80.41% correct\n",
      "\n",
      "Nearest neighbour: 72.68% correct\n"
     ]
    },
    {
     "name": "stderr",
     "output_type": "stream",
     "text": [
      "C:\\Users\\harju\\Anaconda3\\lib\\site-packages\\sklearn\\linear_model\\stochastic_gradient.py:561: ConvergenceWarning: Maximum number of iteration reached before convergence. Consider increasing max_iter to improve the fit.\n",
      "  ConvergenceWarning)\n"
     ]
    }
   ],
   "source": [
    "pdef = Perceptron()\n",
    "pdef.fit(train.iloc[:,1:6], train.iloc[:,0])\n",
    "pdefper = percentage(pdef.predict(pred),ans)\n",
    "\n",
    "p10 = Perceptron(max_iter=10)\n",
    "p10.fit(train.iloc[:,1:6], train.iloc[:,0])\n",
    "p10per = percentage(p10.predict(pred),ans)\n",
    "\n",
    "p50 = Perceptron(max_iter=50)\n",
    "p50.fit(train.iloc[:,1:6], train.iloc[:,0])\n",
    "p50per = percentage(p50.predict(pred),ans)\n",
    "\n",
    "p100 = Perceptron(max_iter=100)\n",
    "p100.fit(train.iloc[:,1:6], train.iloc[:,0])\n",
    "p100per = percentage(p100.predict(pred),ans)\n",
    "\n",
    "p250 = Perceptron(max_iter=250)\n",
    "p250.fit(train.iloc[:,1:6], train.iloc[:,0])\n",
    "p250per = percentage(p250.predict(pred),ans)\n",
    "\n",
    "p500 = Perceptron(max_iter=500)\n",
    "p500.fit(train.iloc[:,1:6], train.iloc[:,0])\n",
    "p500per = percentage(p500.predict(pred),ans)\n",
    "\n",
    "p1000 = Perceptron(max_iter=1000)\n",
    "p1000.fit(train.iloc[:,1:6], train.iloc[:,0])\n",
    "p1000per = percentage(p1000.predict(pred),ans)\n",
    "\n",
    "nnper = percentage(guess,ans)\n",
    "\n",
    "\n",
    "print(\"Perceptron (default): {}% correct\".format(pdefper))\n",
    "print(\"Perceptron (max_iter = 10): {}% correct\".format(p10per))\n",
    "print(\"Perceptron (max_iter = 50): {}% correct\".format(p50per))\n",
    "print(\"Perceptron (max_iter = 100): {}% correct\".format(p100per))\n",
    "print(\"Perceptron (max_iter = 250): {}% correct\".format(p250per))\n",
    "print(\"Perceptron (max_iter = 500): {}% correct\".format(p500per))\n",
    "print(\"Perceptron (max_iter = 1000): {}% correct\".format(p1000per))\n",
    "print()\n",
    "print(\"Nearest neighbour: {}% correct\".format(nnper))"
   ]
  }
 ],
 "metadata": {
  "kernelspec": {
   "display_name": "Python 3",
   "language": "python",
   "name": "python3"
  },
  "language_info": {
   "codemirror_mode": {
    "name": "ipython",
    "version": 3
   },
   "file_extension": ".py",
   "mimetype": "text/x-python",
   "name": "python",
   "nbconvert_exporter": "python",
   "pygments_lexer": "ipython3",
   "version": "3.7.4"
  }
 },
 "nbformat": 4,
 "nbformat_minor": 2
}
