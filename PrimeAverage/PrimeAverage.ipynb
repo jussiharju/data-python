{
 "cells": [
  {
   "cell_type": "code",
   "execution_count": 3,
   "metadata": {},
   "outputs": [
    {
     "name": "stdout",
     "output_type": "stream",
     "text": [
      "Overwriting primeaverage.py\n"
     ]
    }
   ],
   "source": [
    "%%writefile primeaverage.py\n",
    "from mrjob.job import MRJob\n",
    "from mrjob.protocol import RawValueProtocol\n",
    "\n",
    "class PrimeAverage(MRJob):\n",
    "    \n",
    "    OUTPUT_PROTOCOL = RawValueProtocol \n",
    "\n",
    "    def mapper(self, _, line):\n",
    "        lines = line.split()\n",
    "        try:\n",
    "            for line in lines:\n",
    "                yield (1, int(line))\n",
    "        except:\n",
    "            pass\n",
    "        \n",
    "    def combiner(self, key, counts_iter):\n",
    "        yield (key, sum(counts_iter))\n",
    "    \n",
    "    def reducer(self, key, counts_iter):\n",
    "        yield (key, str(sum(counts_iter)/1000000))\n",
    "\n",
    "if __name__ == '__main__':\n",
    "    PrimeAverage.run()"
   ]
  },
  {
   "cell_type": "code",
   "execution_count": 4,
   "metadata": {},
   "outputs": [
    {
     "name": "stderr",
     "output_type": "stream",
     "text": [
      "No configs found; falling back on auto-configuration\n",
      "No configs found; falling back on auto-configuration\n",
      "No configs specified for inline runner\n",
      "No configs specified for inline runner\n",
      "Creating temp directory C:\\Users\\harju\\AppData\\Local\\Temp\\primeaverage.harju.20191126.135604.659077\n",
      "Creating temp directory C:\\Users\\harju\\AppData\\Local\\Temp\\primeaverage.harju.20191126.135604.659077\n",
      "Running step 1 of 1...\n",
      "Running step 1 of 1...\n",
      "job output is in C:\\Users\\harju\\AppData\\Local\\Temp\\primeaverage.harju.20191126.135604.659077\\output\n",
      "job output is in C:\\Users\\harju\\AppData\\Local\\Temp\\primeaverage.harju.20191126.135604.659077\\output\n",
      "Streaming final output from C:\\Users\\harju\\AppData\\Local\\Temp\\primeaverage.harju.20191126.135604.659077\\output...\n",
      "Streaming final output from C:\\Users\\harju\\AppData\\Local\\Temp\\primeaverage.harju.20191126.135604.659077\\output...\n"
     ]
    },
    {
     "name": "stdout",
     "output_type": "stream",
     "text": [
      "7472966.967499\n"
     ]
    },
    {
     "name": "stderr",
     "output_type": "stream",
     "text": [
      "Removing temp directory C:\\Users\\harju\\AppData\\Local\\Temp\\primeaverage.harju.20191126.135604.659077...\n",
      "Removing temp directory C:\\Users\\harju\\AppData\\Local\\Temp\\primeaverage.harju.20191126.135604.659077...\n"
     ]
    }
   ],
   "source": [
    "%run primeaverage.py primes1.txt"
   ]
  }
 ],
 "metadata": {
  "kernelspec": {
   "display_name": "Python 3",
   "language": "python",
   "name": "python3"
  },
  "language_info": {
   "codemirror_mode": {
    "name": "ipython",
    "version": 3
   },
   "file_extension": ".py",
   "mimetype": "text/x-python",
   "name": "python",
   "nbconvert_exporter": "python",
   "pygments_lexer": "ipython3",
   "version": "3.7.4"
  }
 },
 "nbformat": 4,
 "nbformat_minor": 2
}
