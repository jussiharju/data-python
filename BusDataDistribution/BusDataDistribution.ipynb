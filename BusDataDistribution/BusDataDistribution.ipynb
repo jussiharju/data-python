{
 "cells": [
  {
   "cell_type": "code",
   "execution_count": 1,
   "metadata": {},
   "outputs": [
    {
     "name": "stdout",
     "output_type": "stream",
     "text": [
      "Overwriting bus_data_distribution.py\n"
     ]
    }
   ],
   "source": [
    "%%writefile bus_data_distribution.py\n",
    "from mrjob.job import MRJob\n",
    "from mrjob.protocol import RawValueProtocol\n",
    "\n",
    "class BusDataDistribution(MRJob):\n",
    "    \n",
    "    OUTPUT_PROTOCOL = RawValueProtocol \n",
    "    \n",
    "    def mapper_init(self):\n",
    "        for i in range(24):\n",
    "            yield (i, 0)\n",
    "    \n",
    "    def mapper(self, _, line):\n",
    "        lines = line.split(\";\")[1].split(\":\")\n",
    "        try:\n",
    "            yield (int(lines[0]), 1)\n",
    "        except:\n",
    "            pass\n",
    "        \n",
    "    \n",
    "    def reducer(self, hour, counts_iter):\n",
    "        yield (hour, \"{};{}\".format(hour, sum(counts_iter)))\n",
    "\n",
    "if __name__ == '__main__':\n",
    "    BusDataDistribution.run()"
   ]
  },
  {
   "cell_type": "code",
   "execution_count": 3,
   "metadata": {},
   "outputs": [
    {
     "name": "stderr",
     "output_type": "stream",
     "text": [
      "No configs found; falling back on auto-configuration\n",
      "No configs found; falling back on auto-configuration\n",
      "No configs specified for inline runner\n",
      "No configs specified for inline runner\n",
      "Creating temp directory C:\\Users\\harju\\AppData\\Local\\Temp\\bus_data_distribution.harju.20191125.221840.184353\n",
      "Creating temp directory C:\\Users\\harju\\AppData\\Local\\Temp\\bus_data_distribution.harju.20191125.221840.184353\n",
      "Running step 1 of 1...\n",
      "Running step 1 of 1...\n",
      "job output is in C:\\Users\\harju\\AppData\\Local\\Temp\\bus_data_distribution.harju.20191125.221840.184353\\output\n",
      "job output is in C:\\Users\\harju\\AppData\\Local\\Temp\\bus_data_distribution.harju.20191125.221840.184353\\output\n",
      "Streaming final output from C:\\Users\\harju\\AppData\\Local\\Temp\\bus_data_distribution.harju.20191125.221840.184353\\output...\n",
      "Streaming final output from C:\\Users\\harju\\AppData\\Local\\Temp\\bus_data_distribution.harju.20191125.221840.184353\\output...\n"
     ]
    },
    {
     "name": "stdout",
     "output_type": "stream",
     "text": [
      "0;11146\n",
      "1;0\n",
      "10;7842\n",
      "11;55839\n",
      "12;63900\n",
      "13;267964\n",
      "14;159825\n",
      "15;30058\n",
      "16;110325\n",
      "17;68919\n",
      "18;228476\n",
      "19;88894\n",
      "2;1658\n",
      "20;73257\n",
      "21;107740\n",
      "22;66809\n",
      "23;11008\n",
      "3;9169\n",
      "4;1715\n",
      "5;0\n",
      "6;0\n",
      "7;0\n",
      "8;130807\n",
      "9;222687\n"
     ]
    },
    {
     "name": "stderr",
     "output_type": "stream",
     "text": [
      "Removing temp directory C:\\Users\\harju\\AppData\\Local\\Temp\\bus_data_distribution.harju.20191125.221840.184353...\n",
      "Removing temp directory C:\\Users\\harju\\AppData\\Local\\Temp\\bus_data_distribution.harju.20191125.221840.184353...\n"
     ]
    }
   ],
   "source": [
    "%run bus_data_distribution.py busdatas.csv"
   ]
  }
 ],
 "metadata": {
  "kernelspec": {
   "display_name": "Python 3",
   "language": "python",
   "name": "python3"
  },
  "language_info": {
   "codemirror_mode": {
    "name": "ipython",
    "version": 3
   },
   "file_extension": ".py",
   "mimetype": "text/x-python",
   "name": "python",
   "nbconvert_exporter": "python",
   "pygments_lexer": "ipython3",
   "version": "3.7.4"
  }
 },
 "nbformat": 4,
 "nbformat_minor": 2
}
